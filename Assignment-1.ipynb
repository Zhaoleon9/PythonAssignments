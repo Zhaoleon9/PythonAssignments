{
 "cells": [
  {
   "cell_type": "markdown",
   "metadata": {},
   "source": [
    "# <span style=\"color:Blue\">Assignment-1 of COSC5806: Data Analysis with Python</span>"
   ]
  },
  {
   "cell_type": "markdown",
   "metadata": {},
   "source": [
    "# <span style=\"color:Blue\">Due date: Friday, January 31, 2025, @11:59 PM</span>\n",
    "# <span style=\"color:Blue\">Cut-off date: Sunday, February 2, 2025, @11:59 PM</span>"
   ]
  },
  {
   "cell_type": "markdown",
   "metadata": {},
   "source": [
    "## <span style=\"color:Purple\">You are allowed to use core Python's built in modules. Not allowed to use any other libraries including NumPy, pandas, scikit-learn, matplotlib, and Seaborn. Please read the instruction carefully and do not hesitate to contact me if you have any questions.</span>"
   ]
  },
  {
   "cell_type": "markdown",
   "metadata": {},
   "source": [
    "### <span style=\"color:Red\">Examples and Resources for this assignment:</span>\n",
    "<ul>\n",
    "    <li><span style=\"color:Red\">Chapters 3, 4, 5, 6, 7, 8, and 9 from <a href=\"https://docs.python.org/3/tutorial/index.html\">The Python Tutorial</a></span></li>\n",
    "</ul>"
   ]
  },
  {
   "cell_type": "markdown",
   "metadata": {},
   "source": [
    "### <span style=\"color:Green\">Context</span>\n",
    "The attached CSV file contains daily weather data for the year 2024 for the city of Sault Ste. Marie, Ontario, Canada. It includes key meteorological variables such as:\n",
    "\n",
    "<ul>\n",
    "    <li><span><b>Date:</b> The recorded date of the weather data.</span></li>\n",
    "    <li><span><b>Mean Temp ($^{\\circ}$C):</b> The average daily temperature in degrees Celsius.</span></li>\n",
    "    <li><span><b>Total Precip (mm):</b> The total daily precipitation (rain and melted snow) in millimeters.</span></li>\n",
    "    <li><span><b>Snowfall (cm):</b> The amount of snowfall in centimeters.</span></li>\n",
    "    <li><span><b>Wind Speed (km/h):</b> The recorded daily wind speed in kilometers per hour.</span></li>\n",
    "</ul>\n",
    "\n",
    "The following <a href=\"https://climate.weather.gc.ca/glossary_e.html\">link</a> might be useful for the description of the features."
   ]
  },
  {
   "cell_type": "markdown",
   "metadata": {},
   "source": [
    "# <span style=\"color:Green\">P1: Load the dataset.</span>"
   ]
  },
  {
   "cell_type": "code",
   "execution_count": 206,
   "metadata": {},
   "outputs": [
    {
     "name": "stdout",
     "output_type": "stream",
     "text": [
      "Longitude (x) - 0,Latitude (y) - 1,Station Name - 2,Climate ID - 3,Date/Time - 4,Year - 5,Month - 6,Day - 7,Data Quality - 8,Max Temp (°C) - 9,Max Temp Flag - 10,Min Temp (°C) - 11,Min Temp Flag - 12,Mean Temp (°C) - 13,Mean Temp Flag - 14,Heat Deg Days (°C) - 15,Heat Deg Days Flag - 16,Cool Deg Days (°C) - 17,Cool Deg Days Flag - 18,Total Rain (mm) - 19,Total Rain Flag - 20,Total Snow (cm) - 21,Total Snow Flag - 22,Total Precip (mm) - 23,Total Precip Flag - 24,Snow on Grnd (cm) - 25,Snow on Grnd Flag - 26,Dir of Max Gust (10s deg) - 27,Dir of Max Gust Flag - 28,Spd of Max Gust (km/h) - 29,Spd of Max Gust Flag - 30,"
     ]
    }
   ],
   "source": [
    "# Codes of P1 here\n",
    "dataset = []\n",
    "# open data file, save it to the dataset\n",
    "# data are stored as a 2 dimensions data structure\n",
    "with open('en_climate_daily_ON_6057591_2024_P1D.csv', encoding=\"utf-8-sig\") as f:\n",
    "    for line in f:\n",
    "        line = line.strip().replace('\"', '').split(',')\n",
    "        dataset.append(line)\n",
    "\n",
    "# show the index of each column to facilitate the following caculation\n",
    "for j in range(len(dataset[0])):\n",
    "    print(dataset[0][j],'-',j, end=',')\n",
    "\n",
    "# convert data from string to float\n",
    "for i in range(len(dataset)):\n",
    "    for j in range(len(dataset[0])):\n",
    "        try:\n",
    "            dataset[i][j] = float(dataset[i][j])\n",
    "        # if the value isn't number then ignore the errors\n",
    "        except ValueError:\n",
    "            # convert empty string to float 0 to facilitate the following caculation\n",
    "            if dataset[i][j]==\"\" or dataset[i][j] is None:\n",
    "                dataset[i][j] = float(0.0)\n",
    "            continue\n"
   ]
  },
  {
   "cell_type": "markdown",
   "metadata": {},
   "source": [
    "# <span style=\"color:Green\">P2: What is the overall summary (mean, median, min, max, standard deviation) of temperature, precipitation, and wind speed for the year?</span>"
   ]
  },
  {
   "cell_type": "code",
   "execution_count": 150,
   "metadata": {},
   "outputs": [
    {
     "name": "stdout",
     "output_type": "stream",
     "text": [
      "mean of temperature 7.13\n",
      "median of temperature 7.35\n",
      "min of temperature -17.5\n",
      "max of temperature 24.9\n",
      "standard deviation of temperature 9.43\n",
      "mean of precipitation 2.78\n",
      "median of precipitation 0.00\n",
      "min of precipitation 0.0\n",
      "max of precipitation 37.4\n",
      "standard deviation of precipitation 5.96\n",
      "mean of wind speed 32.42\n",
      "median of wind speed 37.00\n",
      "min of wind speed 0.0\n",
      "max of wind speed 85.0\n",
      "standard deviation of wind speed 21.75\n"
     ]
    }
   ],
   "source": [
    "#Codes of P2 here\n",
    "import statistics\n",
    "\n",
    "def print_info(data, content):\n",
    "    print('mean of',content, \"{:.2f}\".format(statistics.mean(data)))\n",
    "    print('median of', content, \"{:.2f}\".format(statistics.median(data)))\n",
    "    print('min of', content, min(data))\n",
    "    print('max of', content, max(data))\n",
    "    print('standard deviation of', content, \"{:.2f}\".format(statistics.stdev(data)))\n",
    "    \n",
    "#[dataset[13] for dataset in dataset[1:]] is the mean temprature\n",
    "#[dataset[23] for dataset in dataset[1:]] is the total precipitation\n",
    "#[dataset[29] for dataset in dataset[1:]] is the Max Gust\n",
    "print_info([dataset[13] for dataset in dataset[1:]], 'temperature')\n",
    "print_info([dataset[23] for dataset in dataset[1:]], 'precipitation')\n",
    "print_info([dataset[29] for dataset in dataset[1:]], 'wind speed')\n",
    "\n",
    "#[dataset[13] for dataset in dataset[1:]] is the mean temprature\n"
   ]
  },
  {
   "cell_type": "markdown",
   "metadata": {},
   "source": [
    "# <span style=\"color:Green\">P3: What are the highest and lowest recorded temperatures of the year, and on which dates did they occur?</span>"
   ]
  },
  {
   "cell_type": "code",
   "execution_count": 174,
   "metadata": {},
   "outputs": [
    {
     "name": "stdout",
     "output_type": "stream",
     "text": [
      "Highest of recorded temperatures is 32.0. The date is: 2024-8-26\n",
      "LowestRecord of recorded temperatures is -22.4. The date is: 2024-1-19\n",
      "The date is: 2024-12-21\n"
     ]
    }
   ],
   "source": [
    "#Codes of P3 here\n",
    "#The highest Record temperature\n",
    "highestRecord = max([dataset[9] for dataset in dataset[1:]])\n",
    "print('Highest of recorded temperatures is', highestRecord, end ='. ')\n",
    "# To match which day has the highest temperature\n",
    "for i in range(len(dataset)):\n",
    "    if dataset[i][9] == highestRecord:\n",
    "        print('The date is: ', int(dataset[i][5]), '-', int(dataset[i][6]),'-', int(dataset[i][7]), sep='')\n",
    "        \n",
    "#The loweest Record temperature\n",
    "lowestRecord = min([dataset[11] for dataset in dataset[1:]])\n",
    "print('LowestRecord of recorded temperatures is', lowestRecord, end ='. ')\n",
    "# To match which day has the lowest temperature\n",
    "for i in range(len(dataset)):\n",
    "    if dataset[i][11] == lowestRecord:\n",
    "        print('The date is: ', int(dataset[i][5]), '-', int(dataset[i][6]),'-', int(dataset[i][7]), sep='')"
   ]
  },
  {
   "cell_type": "markdown",
   "metadata": {},
   "source": [
    "# <span style=\"color:Green\">P4: What is the total annual precipitation (rain + snow)?</span>"
   ]
  },
  {
   "cell_type": "code",
   "execution_count": 185,
   "metadata": {},
   "outputs": [
    {
     "name": "stdout",
     "output_type": "stream",
     "text": [
      "Total annual precipitation is: 1084.7\n"
     ]
    }
   ],
   "source": [
    "#Codes of P4 here\n",
    "# column 19 is the precipitation of rain, column 21 is the precipitation of snow \n",
    "print(\"Total annual precipitation is:\", sum([dataset[19] for dataset in dataset[1:]])+sum([dataset[21] for dataset in dataset[1:]]))"
   ]
  },
  {
   "cell_type": "markdown",
   "metadata": {},
   "source": [
    "# <span style=\"color:Green\">P5: How many days had snowfall, and what was the total snowfall for the year?</span>"
   ]
  },
  {
   "cell_type": "code",
   "execution_count": 203,
   "metadata": {},
   "outputs": [
    {
     "name": "stdout",
     "output_type": "stream",
     "text": [
      "There are 67 days had snowfall, and the total snowfall for the year is 338.6mm.\n"
     ]
    }
   ],
   "source": [
    "#Codes of P5 here\n",
    "# the length of column 21 above 0 is the days; the sum is total snowfall\n",
    "snowNumber = len([x for x in [dataset[21] for dataset in dataset[1:]] if x>0])\n",
    "snowTotal = sum([x for x in [dataset[21] for dataset in dataset[1:]] if x>0])\n",
    "print(f'There are {snowNumber} days had snowfall, and the total snowfall for the year is {snowTotal}mm.' )"
   ]
  },
  {
   "cell_type": "markdown",
   "metadata": {},
   "source": [
    "# <span style=\"color:Green\">P6: What is the average temperature for each month?</span>"
   ]
  },
  {
   "cell_type": "code",
   "execution_count": 324,
   "metadata": {},
   "outputs": [
    {
     "name": "stdout",
     "output_type": "stream",
     "text": [
      "The average temperature of month 1 is -5.48\n",
      "The average temperature of month 2 is -3.49\n",
      "The average temperature of month 3 is -0.31\n",
      "The average temperature of month 4 is 5.09\n",
      "The average temperature of month 5 is 11.17\n",
      "The average temperature of month 6 is 15.32\n",
      "The average temperature of month 7 is 18.72\n",
      "The average temperature of month 8 is 18.36\n",
      "The average temperature of month 9 is 16.21\n",
      "The average temperature of month 10 is 9.50\n",
      "The average temperature of month 11 is 3.83\n",
      "The average temperature of month 12 is -3.68\n"
     ]
    }
   ],
   "source": [
    "#Codes of P6 here\n",
    "# [row for row in dataset[1:] if row[6]==month] is the data in month n\n",
    "# month in [1,2,3...12]\n",
    "\n",
    "for month in range(1,13):\n",
    "    print(\"The average temperature of month\", month,\n",
    "          \"is {:.2f}\".format(statistics.mean([dataset[13] for dataset in [row for row in dataset[1:] if row[6]==month]])))"
   ]
  },
  {
   "cell_type": "markdown",
   "metadata": {},
   "source": [
    "# <span style=\"color:Green\">P7: How does the daily temperature vary across different seasons (Winter, Spring, Summer, Fall)? </span>"
   ]
  },
  {
   "cell_type": "code",
   "execution_count": 253,
   "metadata": {},
   "outputs": [
    {
     "name": "stdout",
     "output_type": "stream",
     "text": [
      "The mean temperature in Winter vary from -17.5 to 5.1\n",
      "The mean temperature in Spring vary from -10.3 to 16.5\n",
      "The mean temperature in Summer vary from 9.8 to 24.9\n",
      "The mean temperature in Fall vary from -2.7 to 21.3\n"
     ]
    }
   ],
   "source": [
    "#Codes of P7 here\n",
    "seasons = {12: 'Winter', 1: 'Winter', 2: 'Winter',\n",
    "           3: 'Spring', 4: 'Spring', 5: 'Spring',\n",
    "           6: 'Summer', 7: 'Summer', 8: 'Summer',\n",
    "           9: 'Fall', 10: 'Fall', 11: 'Fall'}\n",
    "# generate a dict{'Winter':[12, 1, 2],...}\n",
    "months = {}\n",
    "for key, value in seasons.items():\n",
    "    months.setdefault(value, []).append(key)\n",
    "\n",
    "# caculate the min and max base on seasons\n",
    "# [row for row in dataset[1:] if row[6] in value] is the dataset in particular season \n",
    "for key, value in months.items():\n",
    "    print(\"The mean temperature in\", key,\"vary from\", min([dataset[13] for dataset in [row for row in dataset[1:] if row[6] in value]]), \n",
    "          \"to\", max([dataset[13] for dataset in [row for row in dataset[1:] if row[6] in value]]))\n"
   ]
  },
  {
   "cell_type": "markdown",
   "metadata": {},
   "source": [
    "# <span style=\"color:Green\">P8: What is the average monthly precipitation, and which month had the highest/lowest precipitation? </span>"
   ]
  },
  {
   "cell_type": "code",
   "execution_count": 328,
   "metadata": {},
   "outputs": [
    {
     "name": "stdout",
     "output_type": "stream",
     "text": [
      "The precipitation of month 1 is 37.10\n",
      "The precipitation of month 2 is 52.30\n",
      "The precipitation of month 3 is 73.80\n",
      "The precipitation of month 4 is 108.30\n",
      "The precipitation of month 5 is 65.60\n",
      "The precipitation of month 6 is 166.90\n",
      "The precipitation of month 7 is 47.70\n",
      "The precipitation of month 8 is 91.90\n",
      "The precipitation of month 9 is 43.20\n",
      "The precipitation of month 10 is 52.80\n",
      "The precipitation of month 11 is 175.20\n",
      "The precipitation of month 12 is 101.50\n",
      "The lowest precipitation is month 1\n",
      "The highest precipitation is month 11\n"
     ]
    }
   ],
   "source": [
    "#Codes of P8 here\n",
    "# [row for row in dataset[1:] if row[6]==month] is the data in month n\n",
    "# generate a dictionary which contains the month: sum of precipitation pairs, like {1: 37.10, 2:52.30, ....}\n",
    "monthlyPrecs = {}\n",
    "for month in range(1,13):\n",
    "    monthlyPrec = sum([dataset[23] for dataset in [row for row in dataset[1:] if row[6]==month]])\n",
    "    monthlyPrecs[month] = monthlyPrec\n",
    "    print(\"The precipitation of month\", month,\n",
    "          \"is {:.2f}\".format(monthlyPrec))\n",
    "\n",
    "# get the min and max precipitation\n",
    "minPrec = min(monthlyPrecs.values())\n",
    "maxPrec = max(monthlyPrecs.values())\n",
    "\n",
    "# get the months with lowest and highest precipitation\n",
    "for key, value in monthlyPrecs.items():\n",
    "    if value == minPrec:\n",
    "        print(\"The lowest precipitation is month\", key)\n",
    "    if value == maxPrec:\n",
    "        print(\"The highest precipitation is month\", key)"
   ]
  },
  {
   "cell_type": "markdown",
   "metadata": {},
   "source": [
    "# <span style=\"color:Green\">P9: What is the correlation between temperature and precipitation? The Pearson Correlation formula:\n",
    "$$r = \\frac{\\sum(x_i-\\overline{x})(y_i-\\overline{y})}{\\sqrt{\\sum{(x_i-\\overline{x})}^2{(y_i-\\overline{y})}^2}}$$\n",
    "</span>"
   ]
  },
  {
   "cell_type": "code",
   "execution_count": 316,
   "metadata": {},
   "outputs": [
    {
     "name": "stdout",
     "output_type": "stream",
     "text": [
      "The correlation between temperature and precipitation is 0.9551417581296673\n"
     ]
    }
   ],
   "source": [
    "#Codes of P9 here\n",
    "# define a function to caculate r, x, y are a list of numbers\n",
    "def pearson(x, y):\n",
    "    x_mean = statistics.mean(x)\n",
    "    y_mean = statistics.mean(y)\n",
    "    numerator = 0\n",
    "    denominator = 0\n",
    "    for xi, yi in zip(x, y):\n",
    "        numerator += (xi - x_mean) * (yi - y_mean)\n",
    "        denominator += pow((xi - x_mean),2) * pow((yi - y_mean),2)\n",
    "        \n",
    "    #print(numerator, denominator**0.5)\n",
    "    return numerator / (denominator ** 0.5)\n",
    "    \n",
    "#print(pearson([1,2,3], [2,3,4]))\n",
    "# dataset for temperature is [dataset[13] for dataset in dataset[1:]]\n",
    "# dataset for precipitation is [dataset[23] for dataset in dataset[1:]]\n",
    "print(\"The correlation between temperature and precipitation is\",pearson([dataset[13] for dataset in dataset[1:]], [dataset[23] for dataset in dataset[1:]]))\n"
   ]
  },
  {
   "cell_type": "markdown",
   "metadata": {},
   "source": [
    "# <span style=\"color:Green\">P10: How many days recorded extreme weather conditions (e.g., temperature above 30°C or below -20°C)? </span>"
   ]
  },
  {
   "cell_type": "code",
   "execution_count": 330,
   "metadata": {},
   "outputs": [
    {
     "name": "stdout",
     "output_type": "stream",
     "text": [
      "There are 9 days recorded extreme weather conditions.\n"
     ]
    }
   ],
   "source": [
    "#Codes of P10 here\n",
    "# dataset for highest temperature is [dataset[9] for dataset in dataset[1:]]\n",
    "# dataset for lowest temperature is [dataset[11] for dataset in dataset[1:]] \n",
    "extremeDays = len([x for x in [dataset[9] for dataset in dataset[1:]] if x > 30]) + len([x for x in [dataset[11] for dataset in dataset[1:]] if x < -20])\n",
    "print(f\"There are {extremeDays} days recorded extreme weather conditions.\")"
   ]
  },
  {
   "cell_type": "markdown",
   "metadata": {},
   "source": [
    "### <span style=\"color:Red\">Please submit only your complete Jupyter notebook (.ipynb) file. Do not submit compressed files, entire projects, or any other types of files. Comment your program carefully so that it can be read and understood. If your program is not properly commented, you may lose marks. See \\textbf{marking scheme} for details.</span>"
   ]
  },
  {
   "cell_type": "markdown",
   "metadata": {},
   "source": [
    "### <span style=\"color:Red\">Please note that the submitted work will be considered as your own work and you confirm that you have not received any unauthorized assistance including Large Language Models (LLMs) in preparing for or doing this lab/assignment/examination. You confirm knowing that a mark of 0 may be assigned for entire work.</span>"
   ]
  },
  {
   "cell_type": "markdown",
   "metadata": {},
   "source": [
    "### <span style=\"color:Red\">You will receive full credits for the working code, otherwise zero. No partial credits!</span>"
   ]
  }
 ],
 "metadata": {
  "kernelspec": {
   "display_name": "Python [conda env:base] *",
   "language": "python",
   "name": "conda-base-py"
  },
  "language_info": {
   "codemirror_mode": {
    "name": "ipython",
    "version": 3
   },
   "file_extension": ".py",
   "mimetype": "text/x-python",
   "name": "python",
   "nbconvert_exporter": "python",
   "pygments_lexer": "ipython3",
   "version": "3.12.7"
  }
 },
 "nbformat": 4,
 "nbformat_minor": 4
}

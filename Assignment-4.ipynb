{
 "cells": [
  {
   "cell_type": "markdown",
   "metadata": {},
   "source": [
    "# <span style=\"color:Blue\">Assignment-4 of COSC5806: Data Analysis with Python</span>"
   ]
  },
  {
   "cell_type": "markdown",
   "metadata": {},
   "source": [
    "# <span style=\"color:Blue\">Due date: Friday, March 14, 2025, @11:59 PM</span>\n",
    "# <span style=\"color:Blue\">Cut-off date: Sunday, March 16, 2025, @11:59 PM</span>"
   ]
  },
  {
   "cell_type": "markdown",
   "metadata": {},
   "source": [
    "## <span style=\"color:Purple\">You are allowed to use core Python's built in modules/packages/libraries, NumPy, and Pandas. Not allowed to use any other libraries including scikit-learn, matplotlib, and Seaborn. Please read the instruction carefully and do not hesitate to contact me if you have any questions.</span>"
   ]
  },
  {
   "cell_type": "markdown",
   "metadata": {},
   "source": [
    "### <span style=\"color:Red\">Examples and Resources for this assignment:</span>\n",
    "<ul>\n",
    "    <li><span style=\"color:Red\">Chapters 3, 4, 5, 6, 7, 8, and 9 from <a href=\"https://docs.python.org/3/tutorial/index.html\">The Python Tutorial</a></span></li>\n",
    "    <li><span style=\"color:Red\">Chapter 2 from <a href=\"https://jakevdp.github.io/PythonDataScienceHandbook/02.00-introduction-to-numpy.html\">Introduction to NumPy</a></span></li>\n",
    "    <li><span style=\"color:Red\">Chapter 3 from <a href=\"https://jakevdp.github.io/PythonDataScienceHandbook/02.00-introduction-to-numpy.html\">Data Manipulation with Pandas</a></span></li>\n",
    "    <li><span style=\"color:Red\">Chapter 2 from <a href=\"https://github.com/ageron/handson-ml3/blob/main/02_end_to_end_machine_learning_project.ipynb\">End to End Machine Learning Project</a></span></li>\n",
    "    <li><span style=\"color:Red\">Chapter 4 from <a href=\"https://github.com/ageron/handson-ml3/blob/main/04_training_linear_models.ipynb\">Training Linear Models</a></span></li>\n",
    "</ul>"
   ]
  },
  {
   "cell_type": "markdown",
   "metadata": {},
   "source": [
    "### <span style=\"color:Green\">Context</span>\n",
    "The attached CSV file contains daily weather data for the year 2024 for the city of Sault Ste. Marie, Ontario, Canada. It includes key meteorological variables such as:\n",
    "\n",
    "<ul>\n",
    "    <li><span><b>Date:</b> The recorded date of the weather data.</span></li>\n",
    "    <li><span><b>Mean Temp ($^{\\circ}$C):</b> The average daily temperature in degrees Celsius.</span></li>\n",
    "    <li><span><b>Total Precip (mm):</b> The total daily precipitation (rain and melted snow) in millimeters.</span></li>\n",
    "    <li><span><b>Snowfall (cm):</b> The amount of snowfall in centimeters.</span></li>\n",
    "    <li><span><b>Wind Speed (km/h):</b> The recorded daily wind speed in kilometers per hour.</span></li>\n",
    "</ul>\n",
    "\n",
    "The following <a href=\"https://climate.weather.gc.ca/glossary_e.html\">link</a> might be useful for the description of the features. With this dataset predict the mean temperature of a day."
   ]
  },
  {
   "cell_type": "markdown",
   "metadata": {},
   "source": [
    "# <span style=\"color:Green\">P1: Load the dataset.</span>"
   ]
  },
  {
   "cell_type": "code",
   "execution_count": null,
   "metadata": {},
   "outputs": [],
   "source": [
    "#Codes of P1 here"
   ]
  },
  {
   "cell_type": "markdown",
   "metadata": {},
   "source": [
    "# <span style=\"color:Green\">P2: Print a quick description of the data.</span>"
   ]
  },
  {
   "cell_type": "code",
   "execution_count": null,
   "metadata": {},
   "outputs": [],
   "source": [
    "#Codes of P2 here"
   ]
  },
  {
   "cell_type": "markdown",
   "metadata": {},
   "source": [
    "# <span style=\"color:Green\">P3: Display a summary of the numerical attributes.</span>"
   ]
  },
  {
   "cell_type": "code",
   "execution_count": null,
   "metadata": {},
   "outputs": [],
   "source": [
    "#Codes of P3 here"
   ]
  },
  {
   "cell_type": "markdown",
   "metadata": {},
   "source": [
    "# <span style=\"color:Green\">P4: Plot a histogram for each numerical attribute.</span>"
   ]
  },
  {
   "cell_type": "code",
   "execution_count": null,
   "metadata": {},
   "outputs": [],
   "source": [
    "#Codes of P4 here"
   ]
  },
  {
   "cell_type": "markdown",
   "metadata": {},
   "source": [
    "# <span style=\"color:Green\">P5: Compute the standard correlation coefficient (also called Pearson’s r) between every pair of attributes.</span>"
   ]
  },
  {
   "cell_type": "code",
   "execution_count": null,
   "metadata": {},
   "outputs": [],
   "source": [
    "#Codes of P5 here"
   ]
  },
  {
   "cell_type": "markdown",
   "metadata": {},
   "source": [
    "# <span style=\"color:Green\">P6: Set the missing values to the median (if any).</span>"
   ]
  },
  {
   "cell_type": "code",
   "execution_count": null,
   "metadata": {},
   "outputs": [],
   "source": [
    "#Codes of P6 here"
   ]
  },
  {
   "cell_type": "markdown",
   "metadata": {},
   "source": [
    "# <span style=\"color:Green\">P7: Split your dataset into training set (80%) and test set (20%).</span>"
   ]
  },
  {
   "cell_type": "code",
   "execution_count": null,
   "metadata": {},
   "outputs": [],
   "source": [
    "#Codes of P7 here"
   ]
  },
  {
   "cell_type": "markdown",
   "metadata": {},
   "source": [
    "# <span style=\"color:Green\">P8: Use LinearRegression, DecisionTreeRegressor, and RandomForestRegressor to train your model. (apply 5-fold cross validation). For each regression model calculate and print RMSE score. </span>"
   ]
  },
  {
   "cell_type": "code",
   "execution_count": null,
   "metadata": {},
   "outputs": [],
   "source": [
    "#Codes of P8 here"
   ]
  },
  {
   "cell_type": "markdown",
   "metadata": {},
   "source": [
    "# <span style=\"color:Green\">P9: Calculate and print RMSE score for the test set. </span>"
   ]
  },
  {
   "cell_type": "code",
   "execution_count": null,
   "metadata": {},
   "outputs": [],
   "source": [
    "#Codes of P9 here"
   ]
  },
  {
   "cell_type": "markdown",
   "metadata": {},
   "source": [
    "# <span style=\"color:Green\">P10: Predict the mean temperature of a date and compare it with the actual mean temperature.</span>"
   ]
  },
  {
   "cell_type": "code",
   "execution_count": null,
   "metadata": {},
   "outputs": [],
   "source": [
    "#Codes of P10 here"
   ]
  },
  {
   "cell_type": "markdown",
   "metadata": {},
   "source": [
    "### <span style=\"color:Red\">Please submit only your complete Jupyter notebook (.ipynb) file. Do not submit compressed files, entire projects, or any other types of files. Comment your program carefully so that it can be read and understood. If your program is not properly commented, you may lose marks. See \\textbf{marking scheme} for details.</span>"
   ]
  },
  {
   "cell_type": "markdown",
   "metadata": {},
   "source": [
    "### <span style=\"color:Red\">Please note that the submitted work will be considered as your own work and you confirm that you have not received any unauthorized assistance including Large Language Models (LLMs) in preparing for or doing this lab/assignment/examination. You confirm knowing that a mark of 0 may be assigned for entire work.</span>"
   ]
  },
  {
   "cell_type": "markdown",
   "metadata": {},
   "source": [
    "### <span style=\"color:Red\">You will receive full credits for the working code, otherwise zero. No partial credits!</span>"
   ]
  }
 ],
 "metadata": {
  "kernelspec": {
   "display_name": "Python 3 (ipykernel)",
   "language": "python",
   "name": "python3"
  },
  "language_info": {
   "codemirror_mode": {
    "name": "ipython",
    "version": 3
   },
   "file_extension": ".py",
   "mimetype": "text/x-python",
   "name": "python",
   "nbconvert_exporter": "python",
   "pygments_lexer": "ipython3",
   "version": "3.12.4"
  }
 },
 "nbformat": 4,
 "nbformat_minor": 4
}

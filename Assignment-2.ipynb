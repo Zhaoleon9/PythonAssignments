{
 "cells": [
  {
   "cell_type": "markdown",
   "metadata": {},
   "source": [
    "# <span style=\"color:Blue\">Assignment-2 of COSC5806: Data Analysis with Python</span>"
   ]
  },
  {
   "cell_type": "markdown",
   "metadata": {},
   "source": [
    "# <span style=\"color:Blue\">Due date: Friday, February 14, 2025, @11:59 PM</span>\n",
    "# <span style=\"color:Blue\">Cut-off date: Sunday, February 16, 2025, @11:59 PM</span>"
   ]
  },
  {
   "cell_type": "markdown",
   "metadata": {},
   "source": [
    "## <span style=\"color:Purple\">You are allowed to use core Python's built in modules/packages/libraries and NumPy. Not allowed to use any other libraries including pandas, scikit-learn, matplotlib, and Seaborn. Please read the instruction carefully and do not hesitate to contact me if you have any questions.</span>"
   ]
  },
  {
   "cell_type": "markdown",
   "metadata": {},
   "source": [
    "### <span style=\"color:Red\">Examples and Resources for this assignment:</span>\n",
    "<ul>\n",
    "    <li><span style=\"color:Red\">Chapters 3, 4, 5, 6, 7, 8, and 9 from <a href=\"https://docs.python.org/3/tutorial/index.html\">The Python Tutorial</a></span></li>\n",
    "    <li><span style=\"color:Red\">Chapter 2 from <a href=\"https://jakevdp.github.io/PythonDataScienceHandbook/02.00-introduction-to-numpy.html\">Introduction to NumPy</a></span></li>\n",
    "</ul>"
   ]
  },
  {
   "cell_type": "markdown",
   "metadata": {},
   "source": [
    "### <span style=\"color:Green\">Context</span>\n",
    "This dataset compiles daily snapshots of publicly reported data on 2019 Novel Coronavirus (COVID-19) testing in Ontario. Data includes:\n",
    "\n",
    "<ul>\n",
    "    <li><span>date</span></li>\n",
    "    <li><span>OH region</span></li>\n",
    "    <li><span>current hospitalizations with COVID-19</span></li>\n",
    "    <li><span>current patients in Intensive Care Units (ICUs) due to COVID-related critical Illness</span></li>\n",
    "    <li><span>current patients in Intensive Care Units (ICUs) testing positive for COVID</span></li>\n",
    "    <li><span>current patients in Intensive Care Units (ICUs) no longer testing positive for COVID</span></li>\n",
    "    <li><span>current patients in Intensive Care Units (ICUs) on ventilators due to COVID-related critical illness</span></li>\n",
    "    <li><span>current patients in Intensive Care Units (ICUs) on ventilators testing positive for COVID</span></li>\n",
    "    <li><span>current patients in Intensive Care Units (ICUs) on ventilators no longer testing positive for COVID</span></li>\n",
    "</ul>\n",
    "\n",
    "The following <a href=\"https://data.ontario.ca/dataset/covid-19-cases-in-hospital-and-icu-by-ontario-health-region\">link</a> might be useful for the description of the features."
   ]
  },
  {
   "cell_type": "markdown",
   "metadata": {},
   "source": [
    "# <span style=\"color:Green\">P1: Load the dataset.</span>"
   ]
  },
  {
   "cell_type": "code",
   "execution_count": null,
   "metadata": {},
   "outputs": [
    {
     "name": "stdout",
     "output_type": "stream",
     "text": [
      "_id - 0,date - 1,oh_region - 2,icu_current_covid - 3,icu_current_covid_vented - 4,hospitalizations - 5,icu_crci_total - 6,icu_crci_total_vented - 7,icu_former_covid - 8,icu_former_covid_vented - 9,22.551769199839164 35.591481457765596 278.0 224345.0\n"
     ]
    }
   ],
   "source": [
    "#Codes of P1 here\n",
    "import numpy as np\n",
    "\n",
    "# open file and read the data into a list\n",
    "dataset = []\n",
    "with open('.\\\\e760480e-1f95-4634-a923-98161cfb02fa.csv', encoding='utf-8-sig') as f:\n",
    "    for line in f:\n",
    "        dataset.append(line.strip().replace('\\\"','').split(',')) #split by comma\n",
    "\n",
    "# show the index of each column to facilitate the following caculation\n",
    "for j in range(len(dataset[0])):\n",
    "    print(dataset[0][j],'-',j, end=',')\n",
    "\n",
    "# convert the data into float type\n",
    "for i in range(len(dataset)):\n",
    "    for j in range(len(dataset[0])):\n",
    "        try:\n",
    "            dataset[i][j] = float(dataset[i][j])\n",
    "        # if the value isn't number then ignore the errors\n",
    "        except ValueError:\n",
    "            # convert empty string or lonely point to None to facilitate the following caculation\n",
    "            if dataset[i][j]==\"\" or dataset[i][j]==\".\":\n",
    "                dataset[i][j] = None\n",
    "            continue\n",
    "\n",
    "# Save data into numpy array, the index should plus 1 because the first row is the name of each column\n",
    "icu_current_covid = np.array([dataset[3] for dataset in dataset[1:]], dtype=float)\n",
    "icu_current_covid_vented = np.array([dataset[4] for dataset in dataset[1:]], dtype=float)\n",
    "hospitalizations = np.array([dataset[5] for dataset in dataset[1:]], dtype=float)\n",
    "icu_crci_total = np.array([dataset[6] for dataset in dataset[1:]], dtype=float)\n",
    "icu_crci_total_vented = np.array([dataset[7] for dataset in dataset[1:]], dtype=float)\n",
    "icu_former_covid = np.array([dataset[8] for dataset in dataset[1:]], dtype=float)\n",
    "icu_former_covid_vented = np.array([dataset[9] for dataset in dataset[1:]], dtype=float)\n"
   ]
  },
  {
   "cell_type": "markdown",
   "metadata": {},
   "source": [
    "# <span style=\"color:Green\">P2: How many unique values exist in the 'oh_region' column? What are the unique values in the 'oh_region' column? How many records exist per 'oh_region'?</span>"
   ]
  },
  {
   "cell_type": "code",
   "execution_count": 84,
   "metadata": {},
   "outputs": [
    {
     "name": "stdout",
     "output_type": "stream",
     "text": [
      "Column oh_region has  6 unique values\n",
      "The unique values are: {'NORTH WEST', 'TORONTO', 'CENTRAL', 'EAST', 'NORTH EAST', 'WEST'}\n",
      "NORTH WEST : 1700\n",
      "TORONTO : 1700\n",
      "CENTRAL : 1700\n",
      "EAST : 1700\n",
      "NORTH EAST : 1700\n",
      "WEST : 1700\n"
     ]
    }
   ],
   "source": [
    "#Codes of P2 here\n",
    "# transform the data into a set which can remove the duplicate values\n",
    "oh_region_set = set([dataset[2] for dataset in dataset[1:]])\n",
    "print('Column oh_region has ', len(oh_region_set), 'unique values')\n",
    "print('The unique values are:', oh_region_set.__repr__())\n",
    "\n",
    "# create a dictionary to count the number of each unique value\n",
    "rec_count = {key: ([dataset[2] for dataset in dataset[1:]]).count(key) for key in oh_region_set}\n",
    "for key, value in rec_count.items():\n",
    "    print(key, ':', value)"
   ]
  },
  {
   "cell_type": "markdown",
   "metadata": {},
   "source": [
    "# <span style=\"color:Green\">P3: What is the total number of hospitalizations? What is the average number of hospitalizations per day?</span>"
   ]
  },
  {
   "cell_type": "code",
   "execution_count": null,
   "metadata": {},
   "outputs": [
    {
     "name": "stdout",
     "output_type": "stream",
     "text": [
      "The total number of hospitalizations is 1396853.0\n",
      "The average number of hospitalizations per day is 136.9463725490196\n"
     ]
    }
   ],
   "source": [
    "#Codes of P3 here\n",
    "# calculate the total number of hospitalizations and the average number of hospitalizations per day using numpy\n",
    "print('The total number of hospitalizations is', np.nansum(hospitalizations))\n",
    "print('The average number of hospitalizations per day is', np.nanmean(hospitalizations))"
   ]
  },
  {
   "cell_type": "markdown",
   "metadata": {},
   "source": [
    "# <span style=\"color:Green\">P4: What are the top 5 days with the highest number of hospitalizations?</span>"
   ]
  },
  {
   "cell_type": "code",
   "execution_count": null,
   "metadata": {},
   "outputs": [
    {
     "name": "stdout",
     "output_type": "stream",
     "text": [
      "The top 5 days with the highest number of hospitalizations are: ['2022-01-22T00:00:00', '2022-01-17T00:00:00', '2022-01-15T00:00:00', '2022-01-16T00:00:00', '2022-01-18T00:00:00']\n"
     ]
    }
   ],
   "source": [
    "#Codes of P4 here\n",
    "# get the indexes of top 5 values of hospitalizations\n",
    "top5_days = np.argsort(hospitalizations)[-5:]\n",
    "# the index need to plus 1 because the first row is the name of each column\n",
    "print('The top 5 days with the highest number of hospitalizations are:', [dataset[i+1][1] for i in top5_days] )"
   ]
  },
  {
   "cell_type": "markdown",
   "metadata": {},
   "source": [
    "# <span style=\"color:Green\">P5: What are the top 5 days with the highest number of ICU COVID ('icu_current_covid') cases?</span>"
   ]
  },
  {
   "cell_type": "code",
   "execution_count": null,
   "metadata": {},
   "outputs": [
    {
     "name": "stdout",
     "output_type": "stream",
     "text": [
      "The top 5 days with the highest number of ICU COVID are: ['2023-09-21T00:00:00', '2023-09-20T00:00:00', '2023-09-19T00:00:00', '2023-09-18T00:00:00', '2023-10-12T00:00:00']\n"
     ]
    }
   ],
   "source": [
    "#Codes of P5 here\n",
    "# get the indexes of the top 5 values of icu_current_covid\n",
    "top5_days = np.argsort(icu_current_covid)[-5:]\n",
    "# the index need to plus 1 because the first row is the name of each column\n",
    "print('The top 5 days with the highest number of ICU COVID are:', [dataset[i+1][1] for i in top5_days] )"
   ]
  },
  {
   "cell_type": "markdown",
   "metadata": {},
   "source": [
    "# <span style=\"color:Green\">P6: How many patients were in ICU but not on ventilators?</span>"
   ]
  },
  {
   "cell_type": "code",
   "execution_count": 31,
   "metadata": {},
   "outputs": [
    {
     "name": "stdout",
     "output_type": "stream",
     "text": [
      "The total number of patients in ICU but not on ventilators is 219888.0\n"
     ]
    }
   ],
   "source": [
    "#Codes of P6 here\n",
    "# icu_crci_total, current patients in Intensive Care Units (ICUs) due to COVID-related critical Illness\n",
    "# icu_current_covid, current patients in Intensive Care Units (ICUs) testing positive for COVID\n",
    "# icu_former_covid, current patients in Intensive Care Units (ICUs) no longer testing positive for COVID\n",
    "\n",
    "# icu_crci_total_vented, current patients in Intensive Care Units (ICUs) on ventilators due to COVID-related critical illness\n",
    "# icu_current_covid_vented, current patients in Intensive Care Units (ICUs) on ventilators testing positive for COVID\n",
    "# icu_former_covid_vented, current patients in Intensive Care Units (ICUs) on ventilators no longer testing positive for COVID\n",
    "result =(np.nansum(icu_crci_total) + np.nansum(icu_current_covid) + np.nansum(icu_former_covid)) - (np.nansum(icu_crci_total_vented) + np.nansum(icu_current_covid_vented) + np.nansum(icu_former_covid_vented))\n",
    "print('The total number of patients in ICU but not on ventilators is', result)\n"
   ]
  },
  {
   "cell_type": "markdown",
   "metadata": {},
   "source": [
    "# <span style=\"color:Green\">P7: Are there any seasonal (Winter, Spring, Summer, Fall) patterns in COVID-19 hospitalizations? </span>"
   ]
  },
  {
   "cell_type": "code",
   "execution_count": null,
   "metadata": {},
   "outputs": [
    {
     "name": "stdout",
     "output_type": "stream",
     "text": [
      "During  Winter , the total hospitalization number is 468610.0\n",
      "During  Spring , the total hospitalization number is 376684.0\n",
      "During  Summer , the total hospitalization number is 204219.0\n",
      "During  Fall , the total hospitalization number is 347340.0\n"
     ]
    }
   ],
   "source": [
    "#Codes of P7 here\n",
    "seasons = {12: 'Winter', 1: 'Winter', 2: 'Winter',\n",
    "           3: 'Spring', 4: 'Spring', 5: 'Spring',\n",
    "           6: 'Summer', 7: 'Summer', 8: 'Summer',\n",
    "           9: 'Fall', 10: 'Fall', 11: 'Fall'}\n",
    "# generate a dict{'Winter':[12, 1, 2],...}\n",
    "months = {}\n",
    "for month, season in seasons.items():\n",
    "    months.setdefault(season, []).append(month)\n",
    "\n",
    "for season, months in months.items():\n",
    "    # get the index of each season season\n",
    "    argseason = [i for i in range(1,len(dataset)) if int(dataset[i][1][5:7]) in months]\n",
    "    # the index of the month should minus 1 because the first row is the name of each column\n",
    "    argseason = [x-1 for x in argseason]\n",
    "    print(\"During \", season,\", the total hospitalization number is\", np.nansum(hospitalizations[argseason]))\n"
   ]
  },
  {
   "cell_type": "markdown",
   "metadata": {},
   "source": [
    "# <span style=\"color:Green\">P8: What is the average number of ICU patients on ventilators ('icu_current_covid_vented') per region? </span>"
   ]
  },
  {
   "cell_type": "code",
   "execution_count": null,
   "metadata": {},
   "outputs": [
    {
     "name": "stdout",
     "output_type": "stream",
     "text": [
      "The average number of patients of ICU on ventilators in  NORTH WEST is 0.8630880579010857\n",
      "The average number of patients of ICU on ventilators in  TORONTO is 25.52291917973462\n",
      "The average number of patients of ICU on ventilators in  CENTRAL is 17.750301568154402\n",
      "The average number of patients of ICU on ventilators in  EAST is 11.021712907117008\n",
      "The average number of patients of ICU on ventilators in  NORTH EAST is 1.712907117008444\n",
      "The average number of patients of ICU on ventilators in  WEST is 22.512665862484923\n"
     ]
    }
   ],
   "source": [
    "#Codes of P8 here\n",
    "# get the index of each region, then print the average number of patients of ICU on ventilators in each region\n",
    "for region in oh_region_set:\n",
    "    # get the index of each region\n",
    "    argregion = [i for i in range(len(dataset)) if dataset[i][2] == region]\n",
    "    # the index of the region should minus 1 because the first row is the name of each column\n",
    "    argregion = [x-1 for x in argregion]\n",
    "    print(\"The average number of patients of ICU on ventilators in \", region, \"is\", np.nanmean(icu_current_covid_vented[argregion]))\n"
   ]
  },
  {
   "cell_type": "markdown",
   "metadata": {},
   "source": [
    "# <span style=\"color:Green\">P9: What are the busiest regions based on ICU occupancy?</span>"
   ]
  },
  {
   "cell_type": "code",
   "execution_count": null,
   "metadata": {},
   "outputs": [
    {
     "name": "stdout",
     "output_type": "stream",
     "text": [
      "The busiest region is TORONTO\n"
     ]
    }
   ],
   "source": [
    "#Codes of P9 here\n",
    "# get the index of each region, then print the busiest region\n",
    "regionICUnumber = {}\n",
    "maxICUnumber, maxRegion = 0, ''\n",
    "for region in oh_region_set:\n",
    "    # get the index of each region\n",
    "    argregion = [i for i in range(len(dataset)) if dataset[i][2] == region]\n",
    "    # the index of the region should minus 1 because the first row is the name of each column\n",
    "    argregion = [x-1 for x in argregion]\n",
    "    # calculate the total number of patients in ICU in each region\n",
    "    ICUnumber = np.nansum(icu_crci_total[argregion] + icu_current_covid[argregion]+icu_former_covid[argregion])\n",
    "    # save the total number of patients in ICU in each region into a dictionary\n",
    "    regionICUnumber[region] = ICUnumber\n",
    "    # find the busiest region\n",
    "    if ICUnumber > maxICUnumber:\n",
    "        maxICUnumber = ICUnumber\n",
    "        maxRegion = region\n",
    "print(\"The busiest region is\", maxRegion)"
   ]
  },
  {
   "cell_type": "markdown",
   "metadata": {},
   "source": [
    "# <span style=\"color:Green\">P10: Which months had the highest number of hospitalizations? </span>"
   ]
  },
  {
   "cell_type": "code",
   "execution_count": 78,
   "metadata": {},
   "outputs": [
    {
     "name": "stdout",
     "output_type": "stream",
     "text": [
      "The month with the highest number of hospitalizations is 1\n"
     ]
    }
   ],
   "source": [
    "#Codes of P10 here\n",
    "maxMonth, maxMonthHospitalization = 0, 0\n",
    "for month in range(1, 13):\n",
    "    # get the index of each month\n",
    "    argmonth = [i for i in range(1,len(dataset)) if int(dataset[i][1][5:7]) == month]\n",
    "    # the index of the month should minus 1 because the first row is the name of each column\n",
    "    argmonth = [x-1 for x in argmonth]\n",
    "    if np.nansum(hospitalizations[argmonth]) > maxMonthHospitalization:\n",
    "        maxMonthHospitalization = np.nansum(hospitalizations[argmonth])\n",
    "        maxMonth = month\n",
    "print(\"The month with the highest number of hospitalizations is\", maxMonth)"
   ]
  },
  {
   "cell_type": "markdown",
   "metadata": {},
   "source": [
    "### <span style=\"color:Red\">Please submit only your complete Jupyter notebook (.ipynb) file. Do not submit compressed files, entire projects, or any other types of files. Comment your program carefully so that it can be read and understood. If your program is not properly commented, you may lose marks. See \\textbf{marking scheme} for details.</span>"
   ]
  },
  {
   "cell_type": "markdown",
   "metadata": {},
   "source": [
    "### <span style=\"color:Red\">Please note that the submitted work will be considered as your own work and you confirm that you have not received any unauthorized assistance including Large Language Models (LLMs) in preparing for or doing this lab/assignment/examination. You confirm knowing that a mark of 0 may be assigned for entire work.</span>"
   ]
  },
  {
   "cell_type": "markdown",
   "metadata": {},
   "source": [
    "### <span style=\"color:Red\">You will receive full credits for the working code, otherwise zero. No partial credits!</span>"
   ]
  }
 ],
 "metadata": {
  "kernelspec": {
   "display_name": "Python 3 (ipykernel)",
   "language": "python",
   "name": "python3"
  },
  "language_info": {
   "codemirror_mode": {
    "name": "ipython",
    "version": 3
   },
   "file_extension": ".py",
   "mimetype": "text/x-python",
   "name": "python",
   "nbconvert_exporter": "python",
   "pygments_lexer": "ipython3",
   "version": "3.13.1"
  }
 },
 "nbformat": 4,
 "nbformat_minor": 4
}

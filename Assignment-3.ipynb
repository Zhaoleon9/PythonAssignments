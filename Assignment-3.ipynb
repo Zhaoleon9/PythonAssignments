{
 "cells": [
  {
   "cell_type": "markdown",
   "metadata": {},
   "source": [
    "# <span style=\"color:Blue\">Assignment-3 of COSC5806: Data Analysis with Python</span>"
   ]
  },
  {
   "cell_type": "markdown",
   "metadata": {},
   "source": [
    "# <span style=\"color:Blue\">Due date: Friday, February 28, 2025, @11:59 PM</span>\n",
    "# <span style=\"color:Blue\">Cut-off date: Sunday, March 2, 2025, @11:59 PM</span>"
   ]
  },
  {
   "cell_type": "markdown",
   "metadata": {},
   "source": [
    "## <span style=\"color:Purple\">You are allowed to use core Python's built in modules/packages/libraries, NumPy, and Pandas. Not allowed to use any other libraries including scikit-learn, matplotlib, and Seaborn. Please read the instruction carefully and do not hesitate to contact me if you have any questions.</span>"
   ]
  },
  {
   "cell_type": "markdown",
   "metadata": {},
   "source": [
    "### <span style=\"color:Red\">Examples and Resources for this assignment:</span>\n",
    "<ul>\n",
    "    <li><span style=\"color:Red\">Chapters 3, 4, 5, 6, 7, 8, and 9 from <a href=\"https://docs.python.org/3/tutorial/index.html\">The Python Tutorial</a></span></li>\n",
    "    <li><span style=\"color:Red\">Chapter 2 from <a href=\"https://jakevdp.github.io/PythonDataScienceHandbook/02.00-introduction-to-numpy.html\">Introduction to NumPy</a></span></li>\n",
    "    <li><span style=\"color:Red\">Chapter 3 from <a href=\"https://jakevdp.github.io/PythonDataScienceHandbook/02.00-introduction-to-numpy.html\">Data Manipulation with Pandas</a></span></li>\n",
    "</ul>"
   ]
  },
  {
   "cell_type": "markdown",
   "metadata": {},
   "source": [
    "### <span style=\"color:Green\">Context</span>\n",
    "This dataset contains Data for the observational assessment of food safety behaviors at farmers' markets in Ontario, Canada.\n",
    "\n",
    "The following <a href=\"https://www.sciencedirect.com/science/article/pii/S0956713519304645?via%3Dihub#sec1\">link</a> might be useful for the description of the features."
   ]
  },
  {
   "cell_type": "markdown",
   "metadata": {},
   "source": [
    "# <span style=\"color:Green\">P1: Load the dataset.</span>"
   ]
  },
  {
   "cell_type": "code",
   "execution_count": 17,
   "metadata": {},
   "outputs": [
    {
     "name": "stdout",
     "output_type": "stream",
     "text": [
      "Index(['market_ID', 'vendor_ID', 'City', 'Health_unit', 'Yearround',\n",
      "       'Visit_date', 'Visit_month', 'Visit_day', 'Location', 'Public_private',\n",
      "       'no_vendors', 'no_TCSfood_vendors', 'communal_sinks',\n",
      "       'electrical_access', 'pet_signs', 'pets_visible', 'no_vendors_working',\n",
      "       'time_start', 'vendor_roles', 'TCS_rawmeat', 'TCS_rtemeat',\n",
      "       'TCS_preparedfood', 'TCS_produce', 'TCS_sprouts', 'TCS_cheese_dairy',\n",
      "       'TCS_eggs', 'TCS_cider_juice', 'FS_info', 'FS_info_description',\n",
      "       'Visible_handwashing_station', 'Visible_sanitizer',\n",
      "       'Visible_trashcan_lid', 'Visible_trashcan_nolid', 'Visible_trashcan',\n",
      "       'Visible_none', 'Clean_contact_surfaces', 'Food_off_ground',\n",
      "       'Protect_sneeze', 'Protect_mesh', 'Protect_plastic', 'Protect_coolers',\n",
      "       'Protect_covered', 'Protect_none_forsome', 'Protect_atleastone',\n",
      "       'Rawmeats_separate', 'Coldholding_foods_sold', 'Cold_units',\n",
      "       'Cold_coolers', 'Cold_ice', 'Cold_none_forsome',\n",
      "       'Coldholding_thermometers', 'Hotholding_foods_sold', 'Hot_units',\n",
      "       'Hot_grill', 'Hot_none_forsome', 'Hotholding_thermometers',\n",
      "       'Cooking_thermometeres', 'Food_samples', 'TCSfood_samples',\n",
      "       'Sample_types', 'Samples_singleservingitems', 'gender',\n",
      "       'vendor_cleanattire', 'vendor_hair', 'vendor_healthy',\n",
      "       'beh_handle_food', 'beh_cash', 'beh_waste', 'beh_dishes', 'beh_phone',\n",
      "       'beh_belongings', 'beh_pickup', 'beh_touchface', 'beh_eatdrink',\n",
      "       'beh_smoke', 'beh_animals', 'beh_coughsneeze', 'transactions',\n",
      "       'handwashing_attempts', 'handwashing_adequate', 'sanitizer_use',\n",
      "       'Handle_hands', 'Handle_gloves', 'Handle_tongs',\n",
      "       'Handle_napkin_plastic', 'gloves_changed', 'end_time'],\n",
      "      dtype='object')\n"
     ]
    }
   ],
   "source": [
    "#Codes of P1 here\n",
    "# Import numpy and pandas\n",
    "# openpyxl is used to read excel files\n",
    "# Read the excel file 'Farmers Market Observation-dataset.xlsx' and store it in dataFarmer\n",
    "import numpy as np # type: ignore\n",
    "import pandas as pd # type: ignore\n",
    "import openpyxl # type: ignore\n",
    "dataFarmer = pd.read_excel('Farmers Market Observation-dataset.xlsx', sheet_name='Farmers\\' Market Data')\n",
    "print(dataFarmer.columns)"
   ]
  },
  {
   "cell_type": "markdown",
   "metadata": {},
   "source": [
    "# <span style=\"color:Green\">P2: How many unique cities are represented in the dataset? What are the top 5 cities with the most market observations?</span>"
   ]
  },
  {
   "cell_type": "code",
   "execution_count": 18,
   "metadata": {},
   "outputs": [
    {
     "name": "stdout",
     "output_type": "stream",
     "text": [
      "There are 18 unique cities in the dataset.\n",
      "City\n",
      "Toronto        302\n",
      "Brampton        26\n",
      "Etobicoke       22\n",
      "Thornhill       13\n",
      "Mississauga     12\n",
      "Name: count, dtype: int64\n"
     ]
    }
   ],
   "source": [
    "#Codes of P2 here\n",
    "# Q1: Print the number of unique cities in the dataset\n",
    "print(\"There are\", dataFarmer['City'].unique().size, \"unique cities in the dataset.\")\n",
    "# Q2: Print the top 5 cities with the most farmers market observations\n",
    "print(dataFarmer['City'].value_counts().head(5))"
   ]
  },
  {
   "cell_type": "markdown",
   "metadata": {},
   "source": [
    "# <span style=\"color:Green\">P3: How many markets operate year-round? What is the distribution of market visit months? How many markets are located indoors vs. outdoors?</span>"
   ]
  },
  {
   "cell_type": "code",
   "execution_count": 19,
   "metadata": {},
   "outputs": [
    {
     "name": "stdout",
     "output_type": "stream",
     "text": [
      "There are 151 markets operate year-round.\n",
      "Visit_month\n",
      "August       173\n",
      "September     99\n",
      "June          92\n",
      "July          91\n",
      "Name: count, dtype: int64\n",
      "Outdoor 425 vs. Indoor 30\n"
     ]
    }
   ],
   "source": [
    "#Codes of P3 here\n",
    "# Q1: Yearround = \"Yes\"\n",
    "print(\"There are\", dataFarmer[dataFarmer['Yearround']=='Yes'].shape[0], \"markets operate year-round.\")\n",
    "# Q2: Visit_month distribution\n",
    "print(dataFarmer['Visit_month'].value_counts())\n",
    "# Q3: Outdoor: 'Location' = 'Outdoors only' and Indoor: 'Location' = 'Indoors only' + 'Partially outdoors and indoors'\n",
    "print(\"Outdoor\", dataFarmer[dataFarmer['Location']=='Outdoors only'].shape[0],\n",
    "      \"vs. Indoor\", dataFarmer[dataFarmer['Location']=='Indoors only'].shape[0]+\n",
    "      dataFarmer[dataFarmer['Location']=='Partially outdoors and indoors'].shape[0])    "
   ]
  },
  {
   "cell_type": "markdown",
   "metadata": {},
   "source": [
    "# <span style=\"color:Green\">P4: How many vendors were observed in total? What is the average number of vendors per market? What is the distribution of vendor roles?</span>"
   ]
  },
  {
   "cell_type": "code",
   "execution_count": 20,
   "metadata": {},
   "outputs": [
    {
     "name": "stdout",
     "output_type": "stream",
     "text": [
      "There are 454 were observed in total.\n",
      "Average number of vendors per market:7.57\n",
      "The distribution of vendor roles is:\n",
      " vendor_roles\n",
      "Multiple work roles    408\n",
      "Single work roles       46\n",
      "Name: count, dtype: int64\n"
     ]
    }
   ],
   "source": [
    "#Codes of P4 here\n",
    "# Q1: Each vendor_ID is a vendor\n",
    "print(\"There are\", dataFarmer['vendor_ID'].dropna().unique().size, \"were observed in total.\")\n",
    "# Q2: group by market_ID and count the number of unique vendor_ID\n",
    "vendors_per_market = dataFarmer.groupby(\"market_ID\")[\"vendor_ID\"].nunique()\n",
    "print(f\"Average number of vendors per market:{vendors_per_market.mean():.2f}\", )\n",
    "# Q3: the distribution of vendor roles.\n",
    "print(\"The distribution of vendor roles is:\\n\", dataFarmer['vendor_roles'].value_counts())"
   ]
  },
  {
   "cell_type": "markdown",
   "metadata": {},
   "source": [
    "# <span style=\"color:Green\">P5: How many markets have communal sinks available? How many markets allow pets?</span>"
   ]
  },
  {
   "cell_type": "code",
   "execution_count": 21,
   "metadata": {},
   "outputs": [
    {
     "name": "stdout",
     "output_type": "stream",
     "text": [
      "There are 42 markets with communal sinks.\n",
      "There are 1 allow pets.\n"
     ]
    }
   ],
   "source": [
    "#Codes of P5 here\n",
    "# Q1: communal_sinks = 'Yes', count the unique market_ID\n",
    "print(\"There are\", dataFarmer[dataFarmer['communal_sinks']=='Yes']['market_ID'].unique().size, \"markets with communal sinks.\")\n",
    "# Q2: pet_signs = 'Yes', count the unique market_ID\n",
    "print(\"There are\", dataFarmer[dataFarmer['pet_signs']=='Yes']['market_ID'].unique().size, \"allow pets.\")\n"
   ]
  },
  {
   "cell_type": "markdown",
   "metadata": {},
   "source": [
    "# <span style=\"color:Green\">P6: What percentage of vendors handle ready-to-eat meats (TCS_rtemeat > 0)? What percentage of vendors sell raw meat?</span>"
   ]
  },
  {
   "cell_type": "code",
   "execution_count": 22,
   "metadata": {},
   "outputs": [
    {
     "name": "stdout",
     "output_type": "stream",
     "text": [
      "13.66% of vendors handle ready-to-eat meats.\n",
      "21.37% of vendors sell raw meats.\n"
     ]
    }
   ],
   "source": [
    "#Codes of P6 here\n",
    "# Q1: TCS_rtemeat > 0, in total 454 vendors in P4\n",
    "perTCS = dataFarmer[dataFarmer['TCS_rtemeat']>0].shape[0] / 454\n",
    "print(f\"{perTCS*100:.2f}% of vendors handle ready-to-eat meats.\")\n",
    "# Q2: TCS_rawmeat > 0, in total 454 vendors in P4\n",
    "perraw = dataFarmer[dataFarmer['TCS_rawmeat']>0].shape[0] / 454\n",
    "print(f\"{perraw*100:.2f}% of vendors sell raw meats.\")"
   ]
  },
  {
   "cell_type": "markdown",
   "metadata": {},
   "source": [
    "# <span style=\"color:Green\">P7: How many vendors provide food safety information? How many vendors have visible handwashing stations?</span>"
   ]
  },
  {
   "cell_type": "code",
   "execution_count": 23,
   "metadata": {},
   "outputs": [
    {
     "name": "stdout",
     "output_type": "stream",
     "text": [
      "There are 5 vendors provide food safety information.\n",
      "There are 176 vendors have visible handwashing stations.\n"
     ]
    }
   ],
   "source": [
    "#Codes of P7 here\n",
    "# Q1: FS_info = 'Yes'\n",
    "print(\"There are\", dataFarmer[dataFarmer['FS_info']=='Yes'].shape[0], \"vendors provide food safety information.\")\n",
    "# Q2: Visible_handwashing_station == 1\n",
    "print(\"There are\", dataFarmer[dataFarmer['Visible_handwashing_station']==1].shape[0], \"vendors have visible handwashing stations.\")"
   ]
  },
  {
   "cell_type": "markdown",
   "metadata": {},
   "source": [
    "# <span style=\"color:Green\">P8: What is the average number of transactions per vendor? </span>"
   ]
  },
  {
   "cell_type": "code",
   "execution_count": 24,
   "metadata": {},
   "outputs": [
    {
     "name": "stdout",
     "output_type": "stream",
     "text": [
      "The average number of transactions per vendor is 2.99.\n"
     ]
    }
   ],
   "source": [
    "#Codes of P8 here\n",
    "# Q1: the mean of column 'transactions'\n",
    "perTran = dataFarmer['transactions'].mean()\n",
    "print(f\"The average number of transactions per vendor is {perTran:.2f}.\")"
   ]
  },
  {
   "cell_type": "markdown",
   "metadata": {},
   "source": [
    "# <span style=\"color:Green\">P9: What is the distribution of vendor hygiene practices (clean attire)? </span>"
   ]
  },
  {
   "cell_type": "code",
   "execution_count": 25,
   "metadata": {},
   "outputs": [
    {
     "name": "stdout",
     "output_type": "stream",
     "text": [
      "The distribution of vendor clean attire is:\n",
      " vendor_cleanattire\n",
      "Yes    454\n",
      "NaN      1\n",
      "Name: count, dtype: int64\n"
     ]
    }
   ],
   "source": [
    "#Codes of P9 here\n",
    "# Q1: distribution of 'vendor_cleanattire' \n",
    "print(\"The distribution of vendor clean attire is:\\n\", dataFarmer['vendor_cleanattire'].value_counts(dropna=False))\n"
   ]
  },
  {
   "cell_type": "markdown",
   "metadata": {},
   "source": [
    "# <span style=\"color:Green\">P10: How many vendors use gloves when handling food? What percentage of vendors attempt handwashing? What is the percentage of vendors who touch money and food?</span>"
   ]
  },
  {
   "cell_type": "code",
   "execution_count": 26,
   "metadata": {},
   "outputs": [
    {
     "name": "stdout",
     "output_type": "stream",
     "text": [
      "There are 65 vendors are using gloves when handling food.\n",
      "The percentage of vendors who attempted handwashing is 2.86%.\n",
      "The percentage of vendors who touch money and food is 37.22%.\n"
     ]
    }
   ],
   "source": [
    "#Codes of P10 here\n",
    "# Q1: 'vendor_gloves' == 1\n",
    "print(\"There are\", dataFarmer[dataFarmer['Handle_gloves']==1].shape[0], \"vendors are using gloves when handling food.\")\n",
    "# Q2: 'handwashing_attempts' == 1, vendors in total is 454\n",
    "perAttHand = dataFarmer[dataFarmer['handwashing_attempts']==1].shape[0]/454\n",
    "print(\"The percentage of vendors who attempted handwashing is\", f\"{perAttHand*100:.2f}%.\")\n",
    "# Q3: 'beh_cash' > 0\n",
    "perFM = 1 - dataFarmer[dataFarmer['beh_cash']>1].shape[0]/454\n",
    "print(\"The percentage of vendors who touch money and food is\", f\"{perFM*100:.2f}%.\")"
   ]
  },
  {
   "cell_type": "markdown",
   "metadata": {},
   "source": [
    "### <span style=\"color:Red\">Please submit only your complete Jupyter notebook (.ipynb) file. Do not submit compressed files, entire projects, or any other types of files. Comment your program carefully so that it can be read and understood. If your program is not properly commented, you may lose marks. See \\textbf{marking scheme} for details.</span>"
   ]
  },
  {
   "cell_type": "markdown",
   "metadata": {},
   "source": [
    "### <span style=\"color:Red\">Please note that the submitted work will be considered as your own work and you confirm that you have not received any unauthorized assistance including Large Language Models (LLMs) in preparing for or doing this lab/assignment/examination. You confirm knowing that a mark of 0 may be assigned for entire work.</span>"
   ]
  },
  {
   "cell_type": "markdown",
   "metadata": {},
   "source": [
    "### <span style=\"color:Red\">You will receive full credits for the working code, otherwise zero. No partial credits!</span>"
   ]
  }
 ],
 "metadata": {
  "kernelspec": {
   "display_name": "Python 3 (ipykernel)",
   "language": "python",
   "name": "python3"
  }
 },
 "nbformat": 4,
 "nbformat_minor": 4
}

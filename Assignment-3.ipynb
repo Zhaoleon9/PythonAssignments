{
 "cells": [
  {
   "cell_type": "markdown",
   "metadata": {},
   "source": [
    "# <span style=\"color:Blue\">Assignment-3 of COSC5806: Data Analysis with Python</span>"
   ]
  },
  {
   "cell_type": "markdown",
   "metadata": {},
   "source": [
    "# <span style=\"color:Blue\">Due date: Friday, February 28, 2025, @11:59 PM</span>\n",
    "# <span style=\"color:Blue\">Cut-off date: Sunday, March 2, 2025, @11:59 PM</span>"
   ]
  },
  {
   "cell_type": "markdown",
   "metadata": {},
   "source": [
    "## <span style=\"color:Purple\">You are allowed to use core Python's built in modules/packages/libraries, NumPy, and Pandas. Not allowed to use any other libraries including scikit-learn, matplotlib, and Seaborn. Please read the instruction carefully and do not hesitate to contact me if you have any questions.</span>"
   ]
  },
  {
   "cell_type": "markdown",
   "metadata": {},
   "source": [
    "### <span style=\"color:Red\">Examples and Resources for this assignment:</span>\n",
    "<ul>\n",
    "    <li><span style=\"color:Red\">Chapters 3, 4, 5, 6, 7, 8, and 9 from <a href=\"https://docs.python.org/3/tutorial/index.html\">The Python Tutorial</a></span></li>\n",
    "    <li><span style=\"color:Red\">Chapter 2 from <a href=\"https://jakevdp.github.io/PythonDataScienceHandbook/02.00-introduction-to-numpy.html\">Introduction to NumPy</a></span></li>\n",
    "    <li><span style=\"color:Red\">Chapter 3 from <a href=\"https://jakevdp.github.io/PythonDataScienceHandbook/02.00-introduction-to-numpy.html\">Data Manipulation with Pandas</a></span></li>\n",
    "</ul>"
   ]
  },
  {
   "cell_type": "markdown",
   "metadata": {},
   "source": [
    "### <span style=\"color:Green\">Context</span>\n",
    "This dataset contains Data for the observational assessment of food safety behaviors at farmers' markets in Ontario, Canada.\n",
    "\n",
    "The following <a href=\"https://www.sciencedirect.com/science/article/pii/S0956713519304645?via%3Dihub#sec1\">link</a> might be useful for the description of the features."
   ]
  },
  {
   "cell_type": "markdown",
   "metadata": {},
   "source": [
    "# <span style=\"color:Green\">P1: Load the dataset.</span>"
   ]
  },
  {
   "cell_type": "code",
   "execution_count": null,
   "metadata": {},
   "outputs": [],
   "source": [
    "#Codes of P1 here"
   ]
  },
  {
   "cell_type": "markdown",
   "metadata": {},
   "source": [
    "# <span style=\"color:Green\">P2: How many unique cities are represented in the dataset? What are the top 5 cities with the most market observations?</span>"
   ]
  },
  {
   "cell_type": "code",
   "execution_count": null,
   "metadata": {},
   "outputs": [],
   "source": [
    "#Codes of P2 here"
   ]
  },
  {
   "cell_type": "markdown",
   "metadata": {},
   "source": [
    "# <span style=\"color:Green\">P3: How many markets operate year-round? What is the distribution of market visit months? How many markets are located indoors vs. outdoors?</span>"
   ]
  },
  {
   "cell_type": "code",
   "execution_count": null,
   "metadata": {},
   "outputs": [],
   "source": [
    "#Codes of P3 here"
   ]
  },
  {
   "cell_type": "markdown",
   "metadata": {},
   "source": [
    "# <span style=\"color:Green\">P4: How many vendors were observed in total? What is the average number of vendors per market? What is the distribution of vendor roles?</span>"
   ]
  },
  {
   "cell_type": "code",
   "execution_count": null,
   "metadata": {},
   "outputs": [],
   "source": [
    "#Codes of P4 here"
   ]
  },
  {
   "cell_type": "markdown",
   "metadata": {},
   "source": [
    "# <span style=\"color:Green\">P5: How many markets have communal sinks available? How many markets allow pets?</span>"
   ]
  },
  {
   "cell_type": "code",
   "execution_count": null,
   "metadata": {},
   "outputs": [],
   "source": [
    "#Codes of P5 here"
   ]
  },
  {
   "cell_type": "markdown",
   "metadata": {},
   "source": [
    "# <span style=\"color:Green\">P6: What percentage of vendors handle ready-to-eat meats (TCS_rtemeat > 0)? What percentage of vendors sell raw meat?</span>"
   ]
  },
  {
   "cell_type": "code",
   "execution_count": null,
   "metadata": {},
   "outputs": [],
   "source": [
    "#Codes of P6 here"
   ]
  },
  {
   "cell_type": "markdown",
   "metadata": {},
   "source": [
    "# <span style=\"color:Green\">P7: How many vendors provide food safety information? How many vendors have visible handwashing stations?</span>"
   ]
  },
  {
   "cell_type": "code",
   "execution_count": 18,
   "metadata": {},
   "outputs": [],
   "source": [
    "#Codes of P7 here"
   ]
  },
  {
   "cell_type": "markdown",
   "metadata": {},
   "source": [
    "# <span style=\"color:Green\">P8: What is the average number of transactions per vendor? </span>"
   ]
  },
  {
   "cell_type": "code",
   "execution_count": null,
   "metadata": {},
   "outputs": [],
   "source": [
    "#Codes of P8 here"
   ]
  },
  {
   "cell_type": "markdown",
   "metadata": {},
   "source": [
    "# <span style=\"color:Green\">P9: What is the distribution of vendor hygiene practices (clean attire)? </span>"
   ]
  },
  {
   "cell_type": "code",
   "execution_count": null,
   "metadata": {},
   "outputs": [],
   "source": [
    "#Codes of P9 here"
   ]
  },
  {
   "cell_type": "markdown",
   "metadata": {},
   "source": [
    "# <span style=\"color:Green\">P10: How many vendors use gloves when handling food? What percentage of vendors attempt handwashing? What is the percentage of vendors who touch money and food?</span>"
   ]
  },
  {
   "cell_type": "code",
   "execution_count": null,
   "metadata": {},
   "outputs": [],
   "source": [
    "#Codes of P10 here"
   ]
  },
  {
   "cell_type": "markdown",
   "metadata": {},
   "source": [
    "### <span style=\"color:Red\">Please submit only your complete Jupyter notebook (.ipynb) file. Do not submit compressed files, entire projects, or any other types of files. Comment your program carefully so that it can be read and understood. If your program is not properly commented, you may lose marks. See \\textbf{marking scheme} for details.</span>"
   ]
  },
  {
   "cell_type": "markdown",
   "metadata": {},
   "source": [
    "### <span style=\"color:Red\">Please note that the submitted work will be considered as your own work and you confirm that you have not received any unauthorized assistance including Large Language Models (LLMs) in preparing for or doing this lab/assignment/examination. You confirm knowing that a mark of 0 may be assigned for entire work.</span>"
   ]
  },
  {
   "cell_type": "markdown",
   "metadata": {},
   "source": [
    "### <span style=\"color:Red\">You will receive full credits for the working code, otherwise zero. No partial credits!</span>"
   ]
  }
 ],
 "metadata": {
  "kernelspec": {
   "display_name": "Python 3 (ipykernel)",
   "language": "python",
   "name": "python3"
  },
  "language_info": {
   "codemirror_mode": {
    "name": "ipython",
    "version": 3
   },
   "file_extension": ".py",
   "mimetype": "text/x-python",
   "name": "python",
   "nbconvert_exporter": "python",
   "pygments_lexer": "ipython3",
   "version": "3.12.4"
  }
 },
 "nbformat": 4,
 "nbformat_minor": 4
}
